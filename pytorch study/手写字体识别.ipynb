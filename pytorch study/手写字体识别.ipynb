{
 "cells": [
  {
   "cell_type": "code",
   "execution_count": 30,
   "metadata": {},
   "outputs": [],
   "source": [
    "#1. 加载必要的库\n",
    "import torch\n",
    "import torch.nn as nn\n",
    "import torch.nn.functional as F\n",
    "import torch.optim as optim\n",
    "from torchvision import datasets, transforms"
   ]
  },
  {
   "cell_type": "code",
   "execution_count": 31,
   "metadata": {},
   "outputs": [],
   "source": [
    "#2. 定义超参数\n",
    "BATCH_SIZE = 16 # 每批处理的数据\n",
    "DEVICE = torch.device(\"cuda\" if torch.cuda.is_available() else \"cpu\") # 是否用GPU还是CPU训练\n",
    "EPOCHS = 10 # 训练数据集的轮次"
   ]
  },
  {
   "cell_type": "code",
   "execution_count": 32,
   "metadata": {},
   "outputs": [],
   "source": [
    "#3. 构建pipeline，对图像做处理\n",
    "pipeline = transforms.Compose([\n",
    "    transforms.ToTensor(), # 将图片转换成tensor\n",
    "    transforms.Normalize((0.1307,), (0.3081,)) # 正则化：降低模型复杂度\n",
    "])"
   ]
  },
  {
   "cell_type": "code",
   "execution_count": 33,
   "metadata": {},
   "outputs": [],
   "source": [
    "#4. 下载、加载数据\n",
    "from torch.utils.data import DataLoader\n",
    "\n",
    "# 下载数据集\n",
    "train_set = datasets.MNIST(\"data\", train=True, download=True, transform=pipeline)\n",
    "\n",
    "test_set = datasets.MNIST(\"data\", train=False, download=True, transform=pipeline)\n",
    "\n",
    "train_loader = DataLoader(train_set, batch_size=BATCH_SIZE, shuffle=True)\n",
    "\n",
    "test_loader = DataLoader(test_set, batch_size=BATCH_SIZE, shuffle=True)"
   ]
  },
  {
   "cell_type": "code",
   "execution_count": 34,
   "metadata": {},
   "outputs": [],
   "source": [
    "# 插入代码，显示MNIST中的图片\n",
    "with open(\"./data/MNIST/raw/train-images-idx3-ubyte\", \"rb\") as f:\n",
    "    file = f.read()"
   ]
  },
  {
   "cell_type": "code",
   "execution_count": 35,
   "metadata": {},
   "outputs": [],
   "source": [
    "image1 = [int(str(item).encode('ascii'), 16) for item in file[16 : 16+784]]"
   ]
  },
  {
   "cell_type": "code",
   "execution_count": 36,
   "metadata": {},
   "outputs": [
    {
     "name": "stdout",
     "output_type": "stream",
     "text": [
      "(28, 28, 1)\n"
     ]
    }
   ],
   "source": [
    "import cv2\n",
    "import numpy as np\n",
    "\n",
    "image1_np = np.array(image1, dtype=np.uint8).reshape(28, 28, 1)\n",
    "\n",
    "print(image1_np.shape)"
   ]
  },
  {
   "cell_type": "code",
   "execution_count": 37,
   "metadata": {},
   "outputs": [
    {
     "data": {
      "text/plain": [
       "True"
      ]
     },
     "execution_count": 37,
     "metadata": {},
     "output_type": "execute_result"
    }
   ],
   "source": [
    "cv2.imwrite(\"digit.jpg\", image1_np)"
   ]
  },
  {
   "cell_type": "code",
   "execution_count": 38,
   "metadata": {},
   "outputs": [],
   "source": [
    "#5. 构建网络模型\n",
    "class Digit(nn.Module):\n",
    "    def __init__(self):\n",
    "        super().__init__()\n",
    "        self.conv1 = nn.Conv2d(1, 10, 5) # 1: 灰度图片通道， 10：输出通道 5：kernel\n",
    "        self.conv2 = nn.Conv2d(10, 20, 3) # 10: 输入通道， 20：输出通道 3：kernel\n",
    "        self.fc1 = nn.Linear(20*10*10, 500) # 20*10*10：输入通道， 500：输出通道\n",
    "        self.fc2 = nn.Linear(500, 10) # 500：输入通道， 10：输出通道\n",
    "    \n",
    "    def forward(self, x):\n",
    "        input_size = x.size(0) # batch_size\n",
    "        x = self.conv1(x) # 输入：batch*1*28*28  ，输出：batch*10*24*24 (28 - 5 + 1 = 24)\n",
    "        x = F.relu(x) # 保持shape不变，输出：batch*10*24*24\n",
    "        x = F.max_pool2d(x, 2, 2) # 输入：batch*10*24*24 输出：batch*10*12*12\n",
    "        \n",
    "        x = self.conv2(x) # 输入：batch*10*12*12 输出：batch*20*10*10 (12 - 3 + 1 = 10)\n",
    "        x = F.relu(x)\n",
    "        \n",
    "        x = x.view(input_size, -1) # 拉平，-1 自动计算维度，20*10*10 = 2000\n",
    "        \n",
    "        x = self.fc1(x) # 输入：batch*2000 输出：batch*500\n",
    "        x = F.relu(x) # 保持shape不变\n",
    "        \n",
    "        x = self.fc2(x) # 输入：batch*500 输出：batch*10\n",
    "        \n",
    "        output = F.log_softmax(x, dim=1) # 计算分类后，每个数字的概率值\n",
    "        \n",
    "        return output"
   ]
  },
  {
   "cell_type": "code",
   "execution_count": 39,
   "metadata": {},
   "outputs": [],
   "source": [
    "#6. 定义优化器\n",
    "model = Digit().to(DEVICE)\n",
    "\n",
    "optimizer = optim.Adam(model.parameters())"
   ]
  },
  {
   "cell_type": "code",
   "execution_count": 40,
   "metadata": {},
   "outputs": [],
   "source": [
    "#7. 定义训练方法\n",
    "def train_model(model, device, train_loader, optimizer, epoch):\n",
    "    # 模型训练\n",
    "    model.train()\n",
    "    for batch_index, (data, target) in enumerate(train_loader):\n",
    "        # 部署到DEVICE上去\n",
    "        data, target = data.to(device), target.to(device)\n",
    "        # 梯度初始化为0\n",
    "        optimizer.zero_grad()\n",
    "        # 训练后的结果\n",
    "        output = model(data)\n",
    "        # 计算损失\n",
    "        loss = F.cross_entropy(output, target)\n",
    "        # 反向传播\n",
    "        loss.backward()\n",
    "        # 参数优化\n",
    "        optimizer.step()\n",
    "        if batch_index % 3000 == 0:\n",
    "            print(\"Train Epoch : {} \\t Loss : {:.6f}\".format(epoch, loss.item()))"
   ]
  },
  {
   "cell_type": "code",
   "execution_count": 41,
   "metadata": {},
   "outputs": [],
   "source": [
    "#8. 定义测试方法\n",
    "def test_model(model, device, test_loader):\n",
    "    # 模型验证\n",
    "    model.eval()\n",
    "    # 正确率\n",
    "    correct = 0.0\n",
    "    # 测试损失\n",
    "    test_loss = 0.0\n",
    "    with torch.no_grad():\n",
    "        for data, target in test_loader:\n",
    "            # 部署到device上\n",
    "            data, target = data.to(device), target.to(device)\n",
    "            # 测试数据\n",
    "            output = model(data)\n",
    "            # 计算测试损失\n",
    "            test_loss += F.cross_entropy(output, target).item()\n",
    "            #找到概率值最大的下标\n",
    "            pred = output.max(1, keepdim=True)[1] #值，索引\n",
    "            # pred = torch.max(output, dim=1)\n",
    "            # pred = output.argmax(dim=1)\n",
    "            # 累计正确的值\n",
    "            correct += pred.eq(target.view_as(pred)).sum().item()\n",
    "        test_loss /= len(test_loader.dataset)\n",
    "        print(\"Test -- Average loss : {:.4f}, Accuracy : {:.3f}\\n\".format(\n",
    "            test_loss, 100.0 * correct / len(test_loader.dataset)))"
   ]
  },
  {
   "cell_type": "code",
   "execution_count": 42,
   "metadata": {},
   "outputs": [
    {
     "name": "stdout",
     "output_type": "stream",
     "text": [
      "Train Epoch : 1 \t Loss : 2.303473\n",
      "Train Epoch : 1 \t Loss : 0.205348\n",
      "Test -- Average loss : 0.0030, Accuracy : 98.570\n",
      "\n",
      "Train Epoch : 2 \t Loss : 0.027359\n",
      "Train Epoch : 2 \t Loss : 0.001230\n",
      "Test -- Average loss : 0.0027, Accuracy : 98.710\n",
      "\n",
      "Train Epoch : 3 \t Loss : 0.001661\n",
      "Train Epoch : 3 \t Loss : 0.000240\n",
      "Test -- Average loss : 0.0026, Accuracy : 98.800\n",
      "\n",
      "Train Epoch : 4 \t Loss : 0.000009\n",
      "Train Epoch : 4 \t Loss : 0.026306\n",
      "Test -- Average loss : 0.0027, Accuracy : 98.910\n",
      "\n",
      "Train Epoch : 5 \t Loss : 0.018393\n",
      "Train Epoch : 5 \t Loss : 0.067558\n",
      "Test -- Average loss : 0.0034, Accuracy : 98.770\n",
      "\n",
      "Train Epoch : 6 \t Loss : 0.002065\n",
      "Train Epoch : 6 \t Loss : 0.028478\n",
      "Test -- Average loss : 0.0034, Accuracy : 98.760\n",
      "\n",
      "Train Epoch : 7 \t Loss : 0.000063\n",
      "Train Epoch : 7 \t Loss : 0.001354\n",
      "Test -- Average loss : 0.0034, Accuracy : 98.920\n",
      "\n",
      "Train Epoch : 8 \t Loss : 0.000092\n",
      "Train Epoch : 8 \t Loss : 0.000002\n",
      "Test -- Average loss : 0.0037, Accuracy : 98.890\n",
      "\n",
      "Train Epoch : 9 \t Loss : 0.000012\n",
      "Train Epoch : 9 \t Loss : 0.000000\n",
      "Test -- Average loss : 0.0036, Accuracy : 98.870\n",
      "\n",
      "Train Epoch : 10 \t Loss : 0.000000\n",
      "Train Epoch : 10 \t Loss : 0.000000\n",
      "Test -- Average loss : 0.0043, Accuracy : 99.010\n",
      "\n"
     ]
    }
   ],
   "source": [
    "#9. 调用方法7 / 8\n",
    "for epoch in range(1, EPOCHS + 1):\n",
    "    train_model(model, DEVICE, train_loader, optimizer, epoch)\n",
    "    test_model(model, DEVICE, test_loader)"
   ]
  },
  {
   "cell_type": "code",
   "execution_count": 44,
   "metadata": {},
   "outputs": [],
   "source": [
    "import os\n",
    "ckpt_dir = './'\n",
    "save_path = os.path.join(ckpt_dir, 'CNN_model_weight.pth.tar')\n",
    "torch.save({'state_dict': model.state_dict()}, save_path)"
   ]
  },
  {
   "cell_type": "code",
   "execution_count": 45,
   "metadata": {},
   "outputs": [],
   "source": [
    "import torch\n",
    "import numpy as np\n",
    "from PIL import Image"
   ]
  },
  {
   "cell_type": "code",
   "execution_count": 46,
   "metadata": {},
   "outputs": [
    {
     "name": "stdout",
     "output_type": "stream",
     "text": [
      "预测为:数字[8]。\n"
     ]
    }
   ],
   "source": [
    "#  加载参数\n",
    "ckpt = torch.load('./CNN_model_weight.pth.tar')\n",
    "model.load_state_dict(ckpt['state_dict'])            #参数加载到指定模型cnn\n",
    "#  要识别的图片\n",
    "input_image = './t_8.jpg'\n",
    "\n",
    "im = Image.open(input_image).resize((28, 28))     #取图片数据\n",
    "im = im.convert('L')      #灰度图\n",
    "im_data = np.array(im)\n",
    "\n",
    "im_data = torch.from_numpy(im_data).float()\n",
    "\n",
    "im_data = im_data.view(1, 1, 28, 28)\n",
    "im_data = im_data.to(DEVICE)\n",
    "out = model(im_data)\n",
    "pred = torch.max(out, 1)[1].cpu().numpy()\n",
    "\n",
    "print('预测为:数字{}。'.format(pred))"
   ]
  },
  {
   "cell_type": "code",
   "execution_count": null,
   "metadata": {},
   "outputs": [],
   "source": []
  }
 ],
 "metadata": {
  "kernelspec": {
   "display_name": "Python 3",
   "language": "python",
   "name": "python3"
  },
  "language_info": {
   "codemirror_mode": {
    "name": "ipython",
    "version": 3
   },
   "file_extension": ".py",
   "mimetype": "text/x-python",
   "name": "python",
   "nbconvert_exporter": "python",
   "pygments_lexer": "ipython3",
   "version": "3.8.5"
  }
 },
 "nbformat": 4,
 "nbformat_minor": 4
}
